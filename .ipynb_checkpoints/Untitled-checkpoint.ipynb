{
 "cells": [
  {
   "cell_type": "markdown",
   "id": "928445da-d939-4862-81e7-09a06d67ff12",
   "metadata": {},
   "source": [
    "Try To Scrap"
   ]
  },
  {
   "cell_type": "code",
   "execution_count": 2,
   "id": "c62a83d5-6ef5-4e7a-a9d3-6597032e7bc4",
   "metadata": {},
   "outputs": [],
   "source": [
    "import requests\n",
    "from bs4 import BeautifulSoup\n",
    "import csv\n",
    "from datetime import datetime\n",
    "from urllib.parse import urljoin  \n",
    "import re"
   ]
  },
  {
   "cell_type": "code",
   "execution_count": 3,
   "id": "c1f5c3b6-23db-4e24-8790-b12e65e32bab",
   "metadata": {},
   "outputs": [
    {
     "data": {
      "text/plain": [
       "200"
      ]
     },
     "execution_count": 3,
     "metadata": {},
     "output_type": "execute_result"
    }
   ],
   "source": [
    "base_url = 'https://dxlr-eg.com/'\n",
    "url = requests.get('https://dxlr-eg.com/')\n",
    "url.status_code"
   ]
  },
  {
   "cell_type": "code",
   "execution_count": 4,
   "id": "ed1cf0ee-a72a-48a5-9a4b-8e2fedee8d39",
   "metadata": {},
   "outputs": [],
   "source": [
    "src_code = url.content\n",
    "soup = BeautifulSoup(src_code, 'lxml')\n",
    "DXLR_details = []"
   ]
  },
  {
   "cell_type": "code",
   "execution_count": 5,
   "id": "72f32cc6-76ee-419f-84ae-e1a5c5d43eda",
   "metadata": {},
   "outputs": [],
   "source": [
    "def product_rest_data(link):\n",
    "    \n",
    "    product_url = requests.get(link)\n",
    "    link_code = product_url.content \n",
    "    product_soup = BeautifulSoup(link_code, 'lxml')\n",
    "    \n",
    "    info = product_soup.find('div', {'class' : 'hdt-product-info__list hdt-product__info-space'})\n",
    "    details = product_soup.find('div', {'class': 'hdt-product-tab__wrap hdt-product-tab--vertical'})\n",
    "    \n",
    "    full_name = info.find(\"h1\", {\"class\", \"hdt-product__title hdt-font-normal\"}).text.strip()\n",
    "    name = re.sub(r'\\s*\\(.*?\\)\\s*', '', full_name)\n",
    "    color = re.search(r'\\((.*?)\\)', full_name).group(1).strip()\n",
    "    price = info.find(\"span\", {'class': \"hdt-money\"}).text.strip()\n",
    "    discount = info.find(\"hdt-badge\", {'class': 'hdt-badge hdt-badge__on-sale'}).find('span').text.strip()\n",
    "    material = details.find('ul').find('li').text.strip()\n",
    "    category = \"Hoodie\"\n",
    "    sub_category = \"Gaming\"\n",
    "    brand_name = \"DXLR\"\n",
    "    DXLR_details.append({\"Name\": name,\n",
    "                         \"Color\": color,\n",
    "                         \"Price\": price,\n",
    "                         \"Discount\": discount,\n",
    "                         \"Material\": material,\n",
    "                         \"Category\": category,\n",
    "                         \"Sub_Category\": sub_category,\n",
    "                         \"Brand_Name\": brand_name,\n",
    "                         \"Product_Link\": link\n",
    "                        })"
   ]
  },
  {
   "cell_type": "code",
   "execution_count": 6,
   "id": "8a177dc9-1eca-445d-8b5e-ff12f8f86830",
   "metadata": {},
   "outputs": [],
   "source": [
    "products = soup.find_all('hdt-card-product', {'class': 'hdt-card-product'})\n",
    "for product in products:\n",
    "    link = product.find(\"a\", class_=\"hdt-card-product__media-wrapp\")[\"href\"]\n",
    "    absolute_link = urljoin(base_url, link)\n",
    "    product_rest_data(absolute_link)"
   ]
  },
  {
   "cell_type": "code",
   "execution_count": 8,
   "id": "73acbd87-b8aa-4802-860c-e0b1375f79d7",
   "metadata": {},
   "outputs": [
    {
     "name": "stdin",
     "output_type": "stream",
     "text": [
      "Enter the file name:  DXLR\n"
     ]
    },
    {
     "name": "stdout",
     "output_type": "stream",
     "text": [
      "File created successfully\n"
     ]
    }
   ],
   "source": [
    "keys = DXLR_details[0].keys()  \n",
    "file_name = input(\"Enter the file name: \")\n",
    "with open(rf'C:\\Users\\Ziad\\Downloads\\Downloads\\3aaaaaaaaaaaaaaa Here We Go Again\\Data Science Tools\\Project\\{file_name}.csv', 'w', newline='', encoding='utf-8') as output_file:\n",
    "    dic_writer = csv.DictWriter(output_file, fieldnames = keys)\n",
    "    dic_writer.writeheader()\n",
    "    dic_writer.writerows(DXLR_details)\n",
    "    print(\"File created successfully\")"
   ]
  },
  {
   "cell_type": "code",
   "execution_count": null,
   "id": "417bd5b8-54d9-48dc-8e35-0c5073274886",
   "metadata": {},
   "outputs": [],
   "source": []
  }
 ],
 "metadata": {
  "kernelspec": {
   "display_name": "Python 3 (ipykernel)",
   "language": "python",
   "name": "python3"
  },
  "language_info": {
   "codemirror_mode": {
    "name": "ipython",
    "version": 3
   },
   "file_extension": ".py",
   "mimetype": "text/x-python",
   "name": "python",
   "nbconvert_exporter": "python",
   "pygments_lexer": "ipython3",
   "version": "3.11.5"
  }
 },
 "nbformat": 4,
 "nbformat_minor": 5
}
